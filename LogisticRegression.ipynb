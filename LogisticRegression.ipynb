{
 "cells": [
  {
   "cell_type": "code",
   "execution_count": 11,
   "id": "bb4c383c",
   "metadata": {},
   "outputs": [],
   "source": [
    "import pandas as pd\n",
    "from sklearn.preprocessing import StandardScaler\n",
    "from sklearn.model_selection import train_test_split\n",
    "from sklearn.linear_model import LogisticRegression\n",
    "from sklearn import metrics\n",
    "from sklearn.metrics import accuracy_score, confusion_matrix, precision_score, recall_score, ConfusionMatrixDisplay\n",
    "import matplotlib.pyplot as plt\n",
    "from sklearn.metrics import ConfusionMatrixDisplay, confusion_matrix\n",
    "import numpy as np\n",
    "import matplotlib.pyplot as plt\n",
    "import seaborn as sns"
   ]
  },
  {
   "cell_type": "code",
   "execution_count": 3,
   "id": "06398019",
   "metadata": {},
   "outputs": [],
   "source": [
    "df = pd.read_csv(\"compas-scores-two-years-violent.csv\", index_col=0)"
   ]
  },
  {
   "cell_type": "code",
   "execution_count": 7,
   "id": "dea519bb",
   "metadata": {},
   "outputs": [],
   "source": [
    "y = y = df['two_year_recid']\n",
    "keep_cols = [\n",
    "    'age',             # defendant age\n",
    "    'sex',             # male/female\n",
    "    'race',            # categorical\n",
    "    'priors_count',    # number of prior offenses\n",
    "    'c_charge_degree'  # felony vs misdemeanor\n",
    "]\n",
    "\n",
    "X_safe = df[keep_cols].copy()\n",
    "\n",
    "# Convert categorical variables to dummy/indicator variables\n",
    "X= pd.get_dummies(X_safe, drop_first=True)"
   ]
  },
  {
   "cell_type": "code",
   "execution_count": 9,
   "id": "925c4b8e",
   "metadata": {},
   "outputs": [],
   "source": [
    "X_train, X_test, y_train, y_test = train_test_split(X, y, test_size=0.25, random_state=16)\n",
    "\n",
    "# instantiate the model (using the default parameters)\n",
    "logreg = LogisticRegression(random_state=16)\n",
    "\n",
    "# fit the model with data\n",
    "logreg.fit(X_train, y_train)\n",
    "\n",
    "y_pred = logreg.predict(X_test)\n"
   ]
  },
  {
   "cell_type": "code",
   "execution_count": 16,
   "id": "fc5316f3",
   "metadata": {},
   "outputs": [
    {
     "name": "stdout",
     "output_type": "stream",
     "text": [
      "Accuracy: 0.83\n",
      "Precision: 0.64\n",
      "Recall: 0.08\n"
     ]
    }
   ],
   "source": [
    "# Model Accuracy\n",
    "accuracy = accuracy_score(y_test, y_pred)\n",
    "confusion = confusion_matrix(y_test, y_pred)\n",
    "precision = precision_score(y_test, y_pred)\n",
    "recall = recall_score(y_test, y_pred)\n",
    "print(f\"Accuracy: {accuracy:.2f}\")\n",
    "print(f\"Precision: {precision:.2f}\")\n",
    "print(f\"Recall: {recall:.2f}\")"
   ]
  },
  {
   "cell_type": "code",
   "execution_count": 10,
   "id": "b70a1c24",
   "metadata": {},
   "outputs": [
    {
     "data": {
      "text/plain": [
       "array([[972,   9],\n",
       "       [189,  16]])"
      ]
     },
     "execution_count": 10,
     "metadata": {},
     "output_type": "execute_result"
    }
   ],
   "source": [
    "cnf_matrix = metrics.confusion_matrix(y_test, y_pred)\n",
    "cnf_matrix"
   ]
  },
  {
   "cell_type": "code",
   "execution_count": 15,
   "id": "2eae336a",
   "metadata": {},
   "outputs": [
    {
     "data": {
      "text/plain": [
       "Text(0.5, 427.9555555555555, 'Predicted label')"
      ]
     },
     "execution_count": 15,
     "metadata": {},
     "output_type": "execute_result"
    },
    {
     "data": {
      "image/png": "[encoded data removed]",
      "text/plain": [
       "<Figure size 640x480 with 2 Axes>"
      ]
     },
     "metadata": {},
     "output_type": "display_data"
    }
   ],
   "source": [
    "class_names=[0,1] # name  of classes\n",
    "fig, ax = plt.subplots()\n",
    "tick_marks = np.arange(len(class_names))\n",
    "plt.xticks(tick_marks, class_names)\n",
    "plt.yticks(tick_marks, class_names)\n",
    "# create heatmap\n",
    "sns.heatmap(pd.DataFrame(cnf_matrix), annot=True, cmap=\"YlGnBu\" ,fmt='g')\n",
    "ax.xaxis.set_label_position(\"top\")\n",
    "plt.tight_layout()\n",
    "plt.title('Confusion matrix', y=1.1)\n",
    "plt.ylabel('Actual label')\n",
    "plt.xlabel('Predicted label')"
   ]
  },
  {
   "cell_type": "markdown",
   "id": "852cb9d2",
   "metadata": {},
   "source": [
    "Biasness in Logistic Regression Classifier on COMPASS :\n",
    "\n",
    "False‐positive rate (FPR)\n",
    "Among those who did not actually recidivate, 1.54% of Black defendants are incorrectly flagged, versus 0.56% of White defendants. So innocent Black defendants are nearly 3× more likely to get a false “High” label. The FPR gap (1.54% vs 0.56%) is evidence of disparate false alarms against Black defendants—a classic sign of bias against that group.\n",
    "\n",
    "False‐negative rate (FNR)\n",
    "Among those who did recidivate, the model misses 89.4% of Black recidivists but misses an even higher 98.3% of White recidivists. The classifier is comparatively better at catching Black recidivists than White ones."
   ]
  },
  {
   "cell_type": "code",
   "execution_count": 17,
   "id": "0912edbb",
   "metadata": {},
   "outputs": [
    {
     "name": "stdout",
     "output_type": "stream",
     "text": [
      "Metrics by Race:\n",
      "                   P(recid_pred=1)       FPR       FNR  Accuracy\n",
      "race                                                           \n",
      "African-American         0.034542  0.015351  0.894309  0.797927\n",
      "Asian                    0.000000  0.000000  0.000000  1.000000\n",
      "Caucasian                0.007299  0.005666  0.982759  0.856448\n",
      "Hispanic                 0.008696  0.000000  0.923077  0.895652\n",
      "Native American          0.000000  0.000000  0.000000  1.000000\n",
      "Other                    0.014286  0.000000  0.909091  0.857143\n",
      "\n",
      "Metrics by Gender:\n",
      "         P(recid_pred=1)       FPR       FNR  Accuracy\n",
      "sex                                                  \n",
      "Female         0.000000  0.000000  1.000000  0.890351\n",
      "Male           0.026096  0.011568  0.911111  0.819415\n"
     ]
    },
    {
     "name": "stderr",
     "output_type": "stream",
     "text": [
      "/var/folders/6c/pmclr21d7qxghrnljkq0f9pc0000gn/T/ipykernel_22650/2085525822.py:22: DeprecationWarning: DataFrameGroupBy.apply operated on the grouping columns. This behavior is deprecated, and in a future version of pandas the grouping columns will be excluded from the operation. Either pass `include_groups=False` to exclude the groupings or explicitly select the grouping columns after groupby to silence this warning.\n",
      "  by_race   = results.groupby('race').apply(lambda g: pd.Series(group_stats(g)))\n",
      "/var/folders/6c/pmclr21d7qxghrnljkq0f9pc0000gn/T/ipykernel_22650/2085525822.py:24: DeprecationWarning: DataFrameGroupBy.apply operated on the grouping columns. This behavior is deprecated, and in a future version of pandas the grouping columns will be excluded from the operation. Either pass `include_groups=False` to exclude the groupings or explicitly select the grouping columns after groupby to silence this warning.\n",
      "  by_gender = results.groupby('sex').apply(lambda g: pd.Series(group_stats(g)))\n"
     ]
    }
   ],
   "source": [
    "def group_stats(g):\n",
    "    tn, fp, fn, tp = confusion_matrix(\n",
    "        g['true'], \n",
    "        g['pred'],\n",
    "        labels=[0,1]\n",
    "    ).ravel()\n",
    "    return {\n",
    "        'P(recid_pred=1)': (tp+fp)/len(g),\n",
    "        'FPR':  fp / (fp + tn) if (fp+tn)>0 else 0,\n",
    "        'FNR':  fn / (fn + tp) if (fn+tp)>0 else 0,\n",
    "        'Accuracy': (tp + tn) / len(g)\n",
    "    }\n",
    "\n",
    "results = X_test.copy()\n",
    "results['true'] = y_test\n",
    "results['pred'] = y_pred\n",
    "\n",
    "# re-add race and sex from the original df\n",
    "results['race'] = df.loc[X_test.index, 'race']\n",
    "results['sex']  = df.loc[X_test.index, 'sex']\n",
    "# by race\n",
    "by_race   = results.groupby('race').apply(lambda g: pd.Series(group_stats(g)))\n",
    "# by gender\n",
    "by_gender = results.groupby('sex').apply(lambda g: pd.Series(group_stats(g)))\n",
    "\n",
    "print(\"Metrics by Race:\\n\", by_race)\n",
    "print(\"\\nMetrics by Gender:\\n\", by_gender)"
   ]
  }
 ],
 "metadata": {
  "kernelspec": {
   "display_name": "Python 3",
   "language": "python",
   "name": "python3"
  },
  "language_info": {
   "codemirror_mode": {
    "name": "ipython",
    "version": 3
   },
   "file_extension": ".py",
   "mimetype": "text/x-python",
   "name": "python",
   "nbconvert_exporter": "python",
   "pygments_lexer": "ipython3",
   "version": "3.13.1"
  }
 },
 "nbformat": 4,
 "nbformat_minor": 5
}
