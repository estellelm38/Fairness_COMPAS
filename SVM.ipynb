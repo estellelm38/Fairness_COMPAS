{
 "cells": [
  {
   "cell_type": "code",
   "execution_count": 33,
   "id": "80564fa2",
   "metadata": {},
   "outputs": [],
   "source": [
    "import pandas as pd\n",
    "from sklearn.preprocessing import StandardScaler\n",
    "from sklearn.model_selection import train_test_split\n",
    "from sklearn import svm\n",
    "from sklearn import metrics\n",
    "from sklearn.metrics import accuracy_score, confusion_matrix, precision_score, recall_score, ConfusionMatrixDisplay\n",
    "import matplotlib.pyplot as plt\n",
    "from sklearn.metrics import ConfusionMatrixDisplay, confusion_matrix\n",
    "\n"
   ]
  },
  {
   "cell_type": "code",
   "execution_count": 34,
   "id": "2e42bf38",
   "metadata": {},
   "outputs": [],
   "source": [
    "df = pd.read_csv(\"compas-scores-two-years-violent.csv\", index_col=0)"
   ]
  },
  {
   "cell_type": "code",
   "execution_count": 35,
   "id": "cfb8e6d7",
   "metadata": {},
   "outputs": [],
   "source": [
    "y = y = df['two_year_recid']\n",
    "keep_cols = [\n",
    "    'age',             # defendant age\n",
    "    'sex',             # male/female\n",
    "    'race',            # categorical\n",
    "    'priors_count',    # number of prior offenses\n",
    "    'c_charge_degree'  # felony vs misdemeanor\n",
    "]\n",
    "\n",
    "X_safe = df[keep_cols].copy()\n",
    "\n",
    "# One‐hot encode the categoricals\n",
    "X= pd.get_dummies(X_safe, drop_first=True)"
   ]
  },
  {
   "cell_type": "code",
   "execution_count": 36,
   "id": "3dfa1d21",
   "metadata": {},
   "outputs": [],
   "source": [
    "\n",
    "# Split dataset into training set and test set\n",
    "X_train, X_test, y_train, y_test = train_test_split(X, y, test_size=0.3, random_state=109) # 70% training and 30% test\n",
    "\n",
    "#Create a svm Classifier\n",
    "clf = svm.SVC(kernel='rbf',class_weight='balanced',probability=True) # Linear Kernel\n",
    "\n",
    "#Train the model using the training sets\n",
    "clf.fit(X_train, y_train)\n",
    "\n",
    "#Predict the response for test dataset\n",
    "y_pred = clf.predict(X_test)"
   ]
  },
  {
   "cell_type": "code",
   "execution_count": 37,
   "id": "d1b2606a",
   "metadata": {},
   "outputs": [
    {
     "name": "stdout",
     "output_type": "stream",
     "text": [
      "Accuracy: 0.71\n",
      "Precision: 0.32\n",
      "Recall: 0.64\n"
     ]
    }
   ],
   "source": [
    "\n",
    "# Model Accuracy\n",
    "accuracy = accuracy_score(y_test, y_pred)\n",
    "confusion = confusion_matrix(y_test, y_pred)\n",
    "precision = precision_score(y_test, y_pred)\n",
    "recall = recall_score(y_test, y_pred)\n",
    "print(f\"Accuracy: {accuracy:.2f}\")\n",
    "print(f\"Precision: {precision:.2f}\")\n",
    "print(f\"Recall: {recall:.2f}\")\n"
   ]
  },
  {
   "cell_type": "code",
   "execution_count": 41,
   "id": "750d1842",
   "metadata": {},
   "outputs": [
    {
     "data": {
      "image/png": "[encoded data removed]",
      "text/plain": [
       "<Figure size 600x600 with 1 Axes>"
      ]
     },
     "metadata": {},
     "output_type": "display_data"
    }
   ],
   "source": [
    "# Compute the confusion matrix\n",
    "cm = confusion_matrix(y_test, y_pred, labels=clf.classes_)\n",
    "\n",
    "# Create a ConfusionMatrixDisplay object\n",
    "disp = ConfusionMatrixDisplay(\n",
    "    confusion_matrix=cm,\n",
    "    display_labels=['No Recidivism', 'Recidivism']\n",
    ")\n",
    "\n",
    "# Plot\n",
    "fig, ax = plt.subplots(figsize=(6, 6))\n",
    "disp.plot(ax=ax, cmap='BuPu', colorbar=False)\n",
    "plt.title(\"SVM Confusion Matrix\")\n",
    "plt.show()"
   ]
  },
  {
   "cell_type": "markdown",
   "id": "5f207980",
   "metadata": {},
   "source": [
    "Biasness in Support Vector Machine (SVM) Classifier on COMPASS :\n",
    "\n",
    "False‐positive rates (FPR)\n",
    "Black FPR (~37%) is over twice as high as White FPR (~18%). Black non-recidivists are much more likely to be wrongly labeled “high risk.\n",
    "\n",
    "False‐negative rates (FNR)\n",
    "The SVM misses 58% of actual White re-offenders vs just 25% of Black ones. So it’s comparatively more sensitive on Black defendants (but at the cost of more false alarms)."
   ]
  },
  {
   "cell_type": "code",
   "execution_count": 39,
   "id": "1150969f",
   "metadata": {},
   "outputs": [
    {
     "name": "stdout",
     "output_type": "stream",
     "text": [
      "Metrics by Race:\n",
      "                   P(recid_pred=1)       FPR       FNR  Accuracy\n",
      "race                                                           \n",
      "African-American         0.448584  0.373134  0.251852  0.651267\n",
      "Asian                    0.333333  0.142857  0.000000  0.888889\n",
      "Caucasian                0.214801  0.179704  0.580247  0.761733\n",
      "Hispanic                 0.276423  0.234783  0.125000  0.772358\n",
      "Native American          0.000000  0.000000  0.000000  1.000000\n",
      "Other                    0.307692  0.236364  0.300000  0.753846\n",
      "\n",
      "Metrics by Gender:\n",
      "         P(recid_pred=1)       FPR       FNR  Accuracy\n",
      "sex                                                  \n",
      "Female         0.198052  0.172662  0.566667  0.788961\n",
      "Male           0.373094  0.305831  0.330097  0.689686\n"
     ]
    },
    {
     "name": "stderr",
     "output_type": "stream",
     "text": [
      "/var/folders/6c/pmclr21d7qxghrnljkq0f9pc0000gn/T/ipykernel_54568/2085525822.py:22: DeprecationWarning: DataFrameGroupBy.apply operated on the grouping columns. This behavior is deprecated, and in a future version of pandas the grouping columns will be excluded from the operation. Either pass `include_groups=False` to exclude the groupings or explicitly select the grouping columns after groupby to silence this warning.\n",
      "  by_race   = results.groupby('race').apply(lambda g: pd.Series(group_stats(g)))\n",
      "/var/folders/6c/pmclr21d7qxghrnljkq0f9pc0000gn/T/ipykernel_54568/2085525822.py:24: DeprecationWarning: DataFrameGroupBy.apply operated on the grouping columns. This behavior is deprecated, and in a future version of pandas the grouping columns will be excluded from the operation. Either pass `include_groups=False` to exclude the groupings or explicitly select the grouping columns after groupby to silence this warning.\n",
      "  by_gender = results.groupby('sex').apply(lambda g: pd.Series(group_stats(g)))\n"
     ]
    }
   ],
   "source": [
    "def group_stats(g):\n",
    "    tn, fp, fn, tp = confusion_matrix(\n",
    "        g['true'], \n",
    "        g['pred'],\n",
    "        labels=[0,1]\n",
    "    ).ravel()\n",
    "    return {\n",
    "        'P(recid_pred=1)': (tp+fp)/len(g),\n",
    "        'FPR':  fp / (fp + tn) if (fp+tn)>0 else 0,\n",
    "        'FNR':  fn / (fn + tp) if (fn+tp)>0 else 0,\n",
    "        'Accuracy': (tp + tn) / len(g)\n",
    "    }\n",
    "\n",
    "results = X_test.copy()\n",
    "results['true'] = y_test\n",
    "results['pred'] = y_pred\n",
    "\n",
    "# re-add race and sex from the original df\n",
    "results['race'] = df.loc[X_test.index, 'race']\n",
    "results['sex']  = df.loc[X_test.index, 'sex']\n",
    "# by race\n",
    "by_race   = results.groupby('race').apply(lambda g: pd.Series(group_stats(g)))\n",
    "# by gender\n",
    "by_gender = results.groupby('sex').apply(lambda g: pd.Series(group_stats(g)))\n",
    "\n",
    "print(\"Metrics by Race:\\n\", by_race)\n",
    "print(\"\\nMetrics by Gender:\\n\", by_gender)"
   ]
  }
 ],
 "metadata": {
  "kernelspec": {
   "display_name": "Python 3",
   "language": "python",
   "name": "python3"
  },
  "language_info": {
   "codemirror_mode": {
    "name": "ipython",
    "version": 3
   },
   "file_extension": ".py",
   "mimetype": "text/x-python",
   "name": "python",
   "nbconvert_exporter": "python",
   "pygments_lexer": "ipython3",
   "version": "3.13.1"
  }
 },
 "nbformat": 4,
 "nbformat_minor": 5
}
