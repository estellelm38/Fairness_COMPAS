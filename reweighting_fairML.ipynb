{
 "cells": [
  {
   "cell_type": "code",
   "execution_count": 51,
   "id": "42283ce7",
   "metadata": {},
   "outputs": [],
   "source": [
    "# Data Processing\n",
    "import pandas as pd\n",
    "\n",
    "# Modelling\n",
    "from sklearn.ensemble import RandomForestClassifier\n",
    "from sklearn.metrics import accuracy_score, confusion_matrix, precision_score, recall_score, ConfusionMatrixDisplay\n",
    "from sklearn.model_selection import RandomizedSearchCV, train_test_split\n",
    "from aif360.algorithms.preprocessing import Reweighing\n",
    "from aif360.datasets import BinaryLabelDataset\n",
    "from aif360.metrics import BinaryLabelDatasetMetric\n"
   ]
  },
  {
   "cell_type": "code",
   "execution_count": 10,
   "id": "b054746c",
   "metadata": {},
   "outputs": [
    {
     "name": "stdout",
     "output_type": "stream",
     "text": [
      "Requirement already satisfied: aif360[inFairness] in /Library/Frameworks/Python.framework/Versions/3.13/lib/python3.13/site-packages (0.6.1)\n",
      "Requirement already satisfied: numpy>=1.16 in /Library/Frameworks/Python.framework/Versions/3.13/lib/python3.13/site-packages (from aif360[inFairness]) (2.2.2)\n",
      "Requirement already satisfied: scipy>=1.2.0 in /Library/Frameworks/Python.framework/Versions/3.13/lib/python3.13/site-packages (from aif360[inFairness]) (1.15.1)\n",
      "Requirement already satisfied: pandas>=0.24.0 in /Library/Frameworks/Python.framework/Versions/3.13/lib/python3.13/site-packages (from aif360[inFairness]) (2.2.3)\n",
      "Requirement already satisfied: scikit-learn>=1.0 in /Library/Frameworks/Python.framework/Versions/3.13/lib/python3.13/site-packages (from aif360[inFairness]) (1.6.1)\n",
      "Requirement already satisfied: matplotlib in /Library/Frameworks/Python.framework/Versions/3.13/lib/python3.13/site-packages (from aif360[inFairness]) (3.10.0)\n",
      "Collecting skorch (from aif360[inFairness])\n",
      "  Downloading skorch-1.1.0-py3-none-any.whl.metadata (11 kB)\n",
      "Collecting inFairness>=0.2.2 (from aif360[inFairness])\n",
      "  Downloading inFairness-0.2.3-py3-none-any.whl.metadata (8.1 kB)\n",
      "Collecting POT>=0.8.0 (from inFairness>=0.2.2->aif360[inFairness])\n",
      "  Downloading pot-0.9.5.tar.gz (440 kB)\n",
      "  Installing build dependencies ... \u001b[?25ldone\n",
      "\u001b[?25h  Getting requirements to build wheel ... \u001b[?25ldone\n",
      "\u001b[?25h  Preparing metadata (pyproject.toml) ... \u001b[?25ldone\n",
      "\u001b[?25hINFO: pip is looking at multiple versions of infairness to determine which version is compatible with other requirements. This could take a while.\n",
      "Collecting inFairness>=0.2.2 (from aif360[inFairness])\n",
      "  Downloading inFairness-0.2.2-py3-none-any.whl.metadata (7.9 kB)\n",
      "Collecting aif360[inFairness]\n",
      "  Using cached aif360-0.6.1-py3-none-any.whl.metadata (5.0 kB)\n",
      "  Downloading aif360-0.6.0-py3-none-any.whl.metadata (4.7 kB)\n",
      "  Downloading aif360-0.5.0-py3-none-any.whl.metadata (3.8 kB)\n",
      "\u001b[33mWARNING: aif360 0.5.0 does not provide the extra 'infairness'\u001b[0m\u001b[33m\n",
      "\u001b[0mRequirement already satisfied: python-dateutil>=2.8.2 in /Library/Frameworks/Python.framework/Versions/3.13/lib/python3.13/site-packages (from pandas>=0.24.0->aif360[inFairness]) (2.9.0.post0)\n",
      "Requirement already satisfied: pytz>=2020.1 in /Library/Frameworks/Python.framework/Versions/3.13/lib/python3.13/site-packages (from pandas>=0.24.0->aif360[inFairness]) (2024.2)\n",
      "Requirement already satisfied: tzdata>=2022.7 in /Library/Frameworks/Python.framework/Versions/3.13/lib/python3.13/site-packages (from pandas>=0.24.0->aif360[inFairness]) (2025.1)\n",
      "Requirement already satisfied: joblib>=1.2.0 in /Library/Frameworks/Python.framework/Versions/3.13/lib/python3.13/site-packages (from scikit-learn>=1.0->aif360[inFairness]) (1.4.2)\n",
      "Requirement already satisfied: threadpoolctl>=3.1.0 in /Library/Frameworks/Python.framework/Versions/3.13/lib/python3.13/site-packages (from scikit-learn>=1.0->aif360[inFairness]) (3.5.0)\n",
      "Requirement already satisfied: contourpy>=1.0.1 in /Library/Frameworks/Python.framework/Versions/3.13/lib/python3.13/site-packages (from matplotlib->aif360[inFairness]) (1.3.1)\n",
      "Requirement already satisfied: cycler>=0.10 in /Library/Frameworks/Python.framework/Versions/3.13/lib/python3.13/site-packages (from matplotlib->aif360[inFairness]) (0.12.1)\n",
      "Requirement already satisfied: fonttools>=4.22.0 in /Library/Frameworks/Python.framework/Versions/3.13/lib/python3.13/site-packages (from matplotlib->aif360[inFairness]) (4.55.6)\n",
      "Requirement already satisfied: kiwisolver>=1.3.1 in /Library/Frameworks/Python.framework/Versions/3.13/lib/python3.13/site-packages (from matplotlib->aif360[inFairness]) (1.4.8)\n",
      "Requirement already satisfied: packaging>=20.0 in /Library/Frameworks/Python.framework/Versions/3.13/lib/python3.13/site-packages (from matplotlib->aif360[inFairness]) (24.2)\n",
      "Requirement already satisfied: pillow>=8 in /Library/Frameworks/Python.framework/Versions/3.13/lib/python3.13/site-packages (from matplotlib->aif360[inFairness]) (11.1.0)\n",
      "Requirement already satisfied: pyparsing>=2.3.1 in /Library/Frameworks/Python.framework/Versions/3.13/lib/python3.13/site-packages (from matplotlib->aif360[inFairness]) (3.2.1)\n",
      "Requirement already satisfied: six>=1.5 in /Library/Frameworks/Python.framework/Versions/3.13/lib/python3.13/site-packages (from python-dateutil>=2.8.2->pandas>=0.24.0->aif360[inFairness]) (1.17.0)\n",
      "Downloading aif360-0.5.0-py3-none-any.whl (214 kB)\n",
      "Installing collected packages: aif360\n",
      "  Attempting uninstall: aif360\n",
      "    Found existing installation: aif360 0.6.1\n",
      "    Uninstalling aif360-0.6.1:\n",
      "      Successfully uninstalled aif360-0.6.1\n",
      "Successfully installed aif360-0.5.0\n",
      "\n",
      "\u001b[1m[\u001b[0m\u001b[34;49mnotice\u001b[0m\u001b[1;39;49m]\u001b[0m\u001b[39;49m A new release of pip is available: \u001b[0m\u001b[31;49m25.0.1\u001b[0m\u001b[39;49m -> \u001b[0m\u001b[32;49m25.1.1\u001b[0m\n",
      "\u001b[1m[\u001b[0m\u001b[34;49mnotice\u001b[0m\u001b[1;39;49m]\u001b[0m\u001b[39;49m To update, run: \u001b[0m\u001b[32;49mpip install --upgrade pip\u001b[0m\n",
      "Note: you may need to restart the kernel to use updated packages.\n"
     ]
    }
   ],
   "source": [
    "%pip install aif360[inFairness]"
   ]
  },
  {
   "cell_type": "code",
   "execution_count": 62,
   "id": "85984476",
   "metadata": {},
   "outputs": [],
   "source": [
    "\n",
    "# Load the dataset\n",
    "df = pd.read_csv(\"compas-scores-two-years.csv\", index_col=0)\n",
    "y = y = df['two_year_recid']\n",
    "keep_cols = [\n",
    "    'age',             # defendant age\n",
    "    'sex',             # male/female\n",
    "    'race',            # categorical\n",
    "    'priors_count',    # number of prior offenses\n",
    "    'c_charge_degree'  # felony vs misdemeanor\n",
    "]\n",
    "\n",
    "X_safe = df[keep_cols].copy()\n",
    "\n",
    "# One‐hot encode the categoricals\n",
    "X= pd.get_dummies(X_safe, drop_first=True)\n",
    "\n"
   ]
  },
  {
   "cell_type": "code",
   "execution_count": 73,
   "id": "4dc659f1",
   "metadata": {},
   "outputs": [
    {
     "name": "stderr",
     "output_type": "stream",
     "text": [
      "/Library/Frameworks/Python.framework/Versions/3.13/lib/python3.13/site-packages/aif360/algorithms/preprocessing/reweighing.py:66: RuntimeWarning: invalid value encountered in scalar divide\n",
      "  self.w_p_fav = n_fav*n_p / (n*n_p_fav)\n",
      "/Library/Frameworks/Python.framework/Versions/3.13/lib/python3.13/site-packages/aif360/algorithms/preprocessing/reweighing.py:67: RuntimeWarning: invalid value encountered in scalar divide\n",
      "  self.w_p_unfav = n_unfav*n_p / (n*n_p_unfav)\n",
      "/Library/Frameworks/Python.framework/Versions/3.13/lib/python3.13/site-packages/aif360/algorithms/preprocessing/reweighing.py:68: RuntimeWarning: invalid value encountered in scalar divide\n",
      "  self.w_up_fav = n_fav*n_up / (n*n_up_fav)\n",
      "/Library/Frameworks/Python.framework/Versions/3.13/lib/python3.13/site-packages/aif360/algorithms/preprocessing/reweighing.py:69: RuntimeWarning: invalid value encountered in scalar divide\n",
      "  self.w_up_unfav = n_unfav*n_up / (n*n_up_unfav)\n"
     ]
    },
    {
     "name": "stdout",
     "output_type": "stream",
     "text": [
      "Post-Reweighing Accuracy: 0.8345626975763962\n",
      "Post-Reweighing Precision: 0.5393258426966292\n",
      "Post-Reweighing Recall: 0.2926829268292683\n"
     ]
    },
    {
     "name": "stderr",
     "output_type": "stream",
     "text": [
      "/Library/Frameworks/Python.framework/Versions/3.13/lib/python3.13/site-packages/sklearn/utils/validation.py:2732: UserWarning: X has feature names, but RandomForestClassifier was fitted without feature names\n",
      "  warnings.warn(\n"
     ]
    }
   ],
   "source": [
    "X_train, X_test, y_train, y_test = train_test_split(X, y, test_size=0.2, random_state=42)\n",
    "\n",
    "train_df = pd.concat([\n",
    "    X_train.reset_index(drop=True), \n",
    "    y_train.rename(\"two_year_recid\").reset_index(drop=True),\n",
    "    df.loc[X_train.index, \"race\"].rename(\"race\").reset_index(drop=True)\n",
    "], axis=1)\n",
    "\n",
    "# after you build train_df …\n",
    "# Handle missing values before mapping and converting to integer\n",
    "train_df['race_code'] = (\n",
    "    train_df['race']\n",
    "      .map({'African-American': 0, 'Caucasian': 1})\n",
    "      .fillna(-1)  # Replace NaN values with a default value (e.g., -1)\n",
    "      .astype(int)\n",
    ")\n",
    "# now drop the original string column\n",
    "train_df = train_df.drop(columns=['race'])\n",
    "\n",
    "\n",
    "dataset_orig_train = BinaryLabelDataset(\n",
    "    df=train_df,\n",
    "    label_names=['two_year_recid'],\n",
    "    protected_attribute_names=['race_code'],    # numeric now\n",
    "    favorable_label=1,\n",
    "    unfavorable_label=0\n",
    ")\n",
    "\n",
    "privileged_groups   = [{\"race_code\": \"Caucasian\"}]\n",
    "unprivileged_groups = [{\"race_code\": \"African-American\"}]\n",
    "\n",
    "rw = Reweighing(\n",
    "    privileged_groups=privileged_groups,\n",
    "    unprivileged_groups=unprivileged_groups\n",
    ")\n",
    "rw.fit(dataset_orig_train)\n",
    "dataset_transf_train = rw.transform(dataset_orig_train)\n",
    "\n",
    "X_tr = dataset_transf_train.features\n",
    "y_tr = dataset_transf_train.labels.ravel().astype(int)\n",
    "w_tr = dataset_transf_train.instance_weights\n",
    "\n",
    "from sklearn.ensemble import RandomForestClassifier\n",
    "clf = RandomForestClassifier(random_state=42)\n",
    "clf.fit(X_tr, y_tr, sample_weight=w_tr)\n",
    "\n",
    "# Align the features of X_test with X_tr\n",
    "X_test_aligned = X_test.reindex(columns=dataset_transf_train.feature_names, fill_value=0)\n",
    "\n",
    "# Make predictions\n",
    "y_pred = clf.predict(X_test_aligned)\n",
    "from sklearn.metrics import accuracy_score, precision_score, recall_score\n",
    "print(\"Post-Reweighing Accuracy:\",  accuracy_score(y_test,  y_pred))\n",
    "print(\"Post-Reweighing Precision:\", precision_score(y_test, y_pred))\n",
    "print(\"Post-Reweighing Recall:\",    recall_score(y_test,    y_pred))\n"
   ]
  },
  {
   "cell_type": "code",
   "execution_count": 74,
   "id": "157329c7",
   "metadata": {},
   "outputs": [
    {
     "name": "stderr",
     "output_type": "stream",
     "text": [
      "/Library/Frameworks/Python.framework/Versions/3.13/lib/python3.13/site-packages/sklearn/utils/validation.py:2732: UserWarning: X has feature names, but RandomForestClassifier was fitted without feature names\n",
      "  warnings.warn(\n"
     ]
    },
    {
     "name": "stdout",
     "output_type": "stream",
     "text": [
      "Post-RW FPR/FNR by Race:\n",
      "                FPR       FNR\n",
      "race_code                    \n",
      "0.0        0.082192  0.659341\n",
      "1.0        0.053571  0.787234\n"
     ]
    },
    {
     "name": "stderr",
     "output_type": "stream",
     "text": [
      "/var/folders/6c/pmclr21d7qxghrnljkq0f9pc0000gn/T/ipykernel_93507/1372568175.py:24: DeprecationWarning: DataFrameGroupBy.apply operated on the grouping columns. This behavior is deprecated, and in a future version of pandas the grouping columns will be excluded from the operation. Either pass `include_groups=False` to exclude the groupings or explicitly select the grouping columns after groupby to silence this warning.\n",
      "  print(results.groupby('race_code').apply(lambda g: pd.Series(group_stats(g))))\n"
     ]
    }
   ],
   "source": [
    "# rebuild your results DataFrame as before:\n",
    "test_df = X_test.copy()\n",
    "test_df['race_code'] = df.loc[X_test.index,'race'].map({'African-American':0,'Caucasian':1})\n",
    "y_pred = clf.predict(test_df)\n",
    "\n",
    "results = pd.DataFrame({\n",
    "    'true': y_test,\n",
    "    'pred': y_pred,\n",
    "    'race_code': test_df['race_code']\n",
    "})\n",
    "\n",
    "# compute FPR/FNR by race_code\n",
    "def group_stats(g):\n",
    "    tp = ((g.true==1)&(g.pred==1)).sum()\n",
    "    tn = ((g.true==0)&(g.pred==0)).sum()\n",
    "    fp = ((g.true==0)&(g.pred==1)).sum()\n",
    "    fn = ((g.true==1)&(g.pred==0)).sum()\n",
    "    return {\n",
    "        'FPR': fp/(fp+tn) if (fp+tn)>0 else 0,\n",
    "        'FNR': fn/(fn+tp) if (fn+tp)>0 else 0\n",
    "    }\n",
    "\n",
    "print(\"Post-RW FPR/FNR by Race:\")\n",
    "print(results.groupby('race_code').apply(lambda g: pd.Series(group_stats(g))))\n"
   ]
  }
 ],
 "metadata": {
  "kernelspec": {
   "display_name": "Python 3",
   "language": "python",
   "name": "python3"
  },
  "language_info": {
   "codemirror_mode": {
    "name": "ipython",
    "version": 3
   },
   "file_extension": ".py",
   "mimetype": "text/x-python",
   "name": "python",
   "nbconvert_exporter": "python",
   "pygments_lexer": "ipython3",
   "version": "3.13.1"
  }
 },
 "nbformat": 4,
 "nbformat_minor": 5
}
