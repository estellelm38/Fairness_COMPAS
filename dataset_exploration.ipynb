{
 "cells": [
  {
   "cell_type": "code",
   "execution_count": null,
   "id": "55b51fed",
   "metadata": {},
   "outputs": [
    {
     "name": "stdout",
     "output_type": "stream",
     "text": [
      "Requirement already satisfied: pandas in ./.venv/lib/python3.12/site-packages (2.2.3)\n",
      "Requirement already satisfied: numpy>=1.26.0 in ./.venv/lib/python3.12/site-packages (from pandas) (2.2.5)\n",
      "Requirement already satisfied: python-dateutil>=2.8.2 in ./.venv/lib/python3.12/site-packages (from pandas) (2.9.0.post0)\n",
      "Requirement already satisfied: pytz>=2020.1 in ./.venv/lib/python3.12/site-packages (from pandas) (2025.2)\n",
      "Requirement already satisfied: tzdata>=2022.7 in ./.venv/lib/python3.12/site-packages (from pandas) (2025.2)\n",
      "Requirement already satisfied: six>=1.5 in ./.venv/lib/python3.12/site-packages (from python-dateutil>=2.8.2->pandas) (1.17.0)\n",
      "Note: you may need to restart the kernel to use updated packages.\n",
      "Requirement already satisfied: matplotlib in ./.venv/lib/python3.12/site-packages (3.10.3)\n",
      "Requirement already satisfied: contourpy>=1.0.1 in ./.venv/lib/python3.12/site-packages (from matplotlib) (1.3.2)\n",
      "Requirement already satisfied: cycler>=0.10 in ./.venv/lib/python3.12/site-packages (from matplotlib) (0.12.1)\n",
      "Requirement already satisfied: fonttools>=4.22.0 in ./.venv/lib/python3.12/site-packages (from matplotlib) (4.58.0)\n",
      "Requirement already satisfied: kiwisolver>=1.3.1 in ./.venv/lib/python3.12/site-packages (from matplotlib) (1.4.8)\n",
      "Requirement already satisfied: numpy>=1.23 in ./.venv/lib/python3.12/site-packages (from matplotlib) (2.2.5)\n",
      "Requirement already satisfied: packaging>=20.0 in ./.venv/lib/python3.12/site-packages (from matplotlib) (25.0)\n",
      "Requirement already satisfied: pillow>=8 in ./.venv/lib/python3.12/site-packages (from matplotlib) (11.2.1)\n",
      "Requirement already satisfied: pyparsing>=2.3.1 in ./.venv/lib/python3.12/site-packages (from matplotlib) (3.2.3)\n",
      "Requirement already satisfied: python-dateutil>=2.7 in ./.venv/lib/python3.12/site-packages (from matplotlib) (2.9.0.post0)\n",
      "Requirement already satisfied: six>=1.5 in ./.venv/lib/python3.12/site-packages (from python-dateutil>=2.7->matplotlib) (1.17.0)\n",
      "Note: you may need to restart the kernel to use updated packages.\n"
     ]
    }
   ],
   "source": [
    "%pip install pandas\n",
    "%pip install matplotlib\n",
    "%pip install seaborn\n",
    "%pip install scikit-learn"
   ]
  },
  {
   "cell_type": "code",
   "execution_count": null,
   "id": "a239809d",
   "metadata": {},
   "outputs": [],
   "source": [
    "import pandas as pd\n",
    "import matplotlib.pyplot as plt\n",
    "import seaborn as sns"
   ]
  },
  {
   "cell_type": "code",
   "execution_count": null,
   "id": "c404f2fd",
   "metadata": {},
   "outputs": [],
   "source": [
    "df = pd.read_csv(\"compas-scores-two-years-violent.csv\", index_col=0)"
   ]
  },
  {
   "cell_type": "code",
   "execution_count": null,
   "id": "3c18b16f",
   "metadata": {},
   "outputs": [],
   "source": [
    "y = df[\"two_year_recid\"]\n",
    "X = df.drop(columns=[\"two_year_recid\", \"decile_score\", \"score_text\"])"
   ]
  },
  {
   "cell_type": "code",
   "execution_count": null,
   "id": "877803ee",
   "metadata": {},
   "outputs": [],
   "source": [
    "df.head()"
   ]
  },
  {
   "cell_type": "code",
   "execution_count": null,
   "id": "b1cef438",
   "metadata": {},
   "outputs": [],
   "source": [
    "df.describe()"
   ]
  },
  {
   "cell_type": "code",
   "execution_count": null,
   "id": "588a0ab1",
   "metadata": {},
   "outputs": [],
   "source": [
    "df.info()"
   ]
  },
  {
   "cell_type": "code",
   "execution_count": null,
   "id": "6138258f",
   "metadata": {},
   "outputs": [],
   "source": [
    "nan_counts = df.isna().sum()\n",
    "print(nan_counts[nan_counts > 0])"
   ]
  },
  {
   "cell_type": "code",
   "execution_count": null,
   "id": "24df018a",
   "metadata": {},
   "outputs": [],
   "source": [
    "categorical_features = ['sex', 'age_cat','race']\n",
    "quantitative_features = ['age', 'juv_fel_count', 'juv_misd_count', 'juv_other_count', 'priors_count', 'days_b_screening_arrest', 'decile_score', 'is_recid', 'c_charge_degree']\n",
    "ordinal_features = ['age_cat', 'c_charge_degree']\n",
    "\n",
    "X = df[categorical_features + quantitative_features].values\n",
    "X_quantitative = df[quantitative_features].values\n",
    "X_categorical = df[categorical_features].values"
   ]
  },
  {
   "cell_type": "code",
   "execution_count": null,
   "id": "c5d80876",
   "metadata": {},
   "outputs": [],
   "source": [
    "for i, col in enumerate(df[quantitative_features].columns):\n",
    "    plt.figure(figsize=(8, 6))\n",
    "    sns.histplot(data=df[quantitative_features],x=col)\n",
    "    plt.title(f\"Distribution of {col}\")\n",
    "    plt.savefig(f\"figures/histogram_{col}.png\")\n",
    "    plt.show()"
   ]
  },
  {
   "cell_type": "code",
   "execution_count": null,
   "id": "fd5def15",
   "metadata": {},
   "outputs": [],
   "source": [
    "for i, col in enumerate(df[categorical_features].columns):\n",
    "    plt.figure(figsize=(8, 6))\n",
    "    sns.countplot(data=df[categorical_features],x=col)\n",
    "    plt.title(f\"Distribution of {col}\")\n",
    "    plt.savefig(f\"figures/countplot_{col}.png\")\n",
    "    plt.show()"
   ]
  },
  {
   "cell_type": "code",
   "execution_count": null,
   "id": "eb4375bb",
   "metadata": {},
   "outputs": [],
   "source": [
    "plt.figure(figsize=(8,5))\n",
    "sns.histplot(\n",
    "    data=df,\n",
    "    x=\"decile_score\",\n",
    "    hue=\"race\",\n",
    "    multiple=\"dodge\",\n",
    "    bins=10,\n",
    "    edgecolor=\"w\"\n",
    ")\n",
    "plt.title(\"COMPAS Decile Score Distribution by Race\")\n",
    "plt.xlabel(\"Decile Score\")\n",
    "plt.ylabel(\"Count\")\n",
    "plt.show()"
   ]
  },
  {
   "cell_type": "code",
   "execution_count": null,
   "id": "7e9682ba",
   "metadata": {},
   "outputs": [],
   "source": [
    "plt.figure(figsize=(8,5))\n",
    "sns.histplot(\n",
    "    data=df,\n",
    "    x=\"decile_score\",\n",
    "    hue=\"sex\",\n",
    "    multiple=\"dodge\",\n",
    "    bins=10,\n",
    "    edgecolor=\"w\"\n",
    ")\n",
    "plt.title(\"COMPAS Decile Score Distribution by Gender\")\n",
    "plt.xlabel(\"Decile Score\")\n",
    "plt.ylabel(\"Count\")\n",
    "plt.show()"
   ]
  }
 ],
 "metadata": {
  "kernelspec": {
   "display_name": ".venv",
   "language": "python",
   "name": "python3"
  },
  "language_info": {
   "codemirror_mode": {
    "name": "ipython",
    "version": 3
   },
   "file_extension": ".py",
   "mimetype": "text/x-python",
   "name": "python",
   "nbconvert_exporter": "python",
   "pygments_lexer": "ipython3",
   "version": "3.12.3"
  }
 },
 "nbformat": 4,
 "nbformat_minor": 5
}
