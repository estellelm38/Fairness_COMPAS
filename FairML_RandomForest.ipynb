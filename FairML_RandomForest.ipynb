{
 "cells": [
  {
   "cell_type": "code",
   "execution_count": 8,
   "id": "42283ce7",
   "metadata": {},
   "outputs": [
    {
     "name": "stderr",
     "output_type": "stream",
     "text": [
      "WARNING:root:No module named 'tempeh': LawSchoolGPADataset will be unavailable. To install, run:\n",
      "pip install 'aif360[LawSchoolGPA]'\n",
      "WARNING:root:No module named 'tensorflow': AdversarialDebiasing will be unavailable. To install, run:\n",
      "pip install 'aif360[AdversarialDebiasing]'\n",
      "WARNING:root:No module named 'tensorflow': AdversarialDebiasing will be unavailable. To install, run:\n",
      "pip install 'aif360[AdversarialDebiasing]'\n"
     ]
    }
   ],
   "source": [
    "# Data Processing\n",
    "import pandas as pd\n",
    "\n",
    "# Modelling\n",
    "from sklearn.ensemble import RandomForestClassifier\n",
    "from sklearn.metrics import accuracy_score, confusion_matrix, precision_score, recall_score, ConfusionMatrixDisplay\n",
    "from sklearn.model_selection import RandomizedSearchCV, train_test_split\n",
    "from aif360.algorithms.preprocessing import Reweighing\n",
    "from aif360.datasets import BinaryLabelDataset\n",
    "from aif360.metrics import BinaryLabelDatasetMetric\n"
   ]
  },
  {
   "cell_type": "code",
   "execution_count": 9,
   "id": "b054746c",
   "metadata": {},
   "outputs": [
    {
     "name": "stdout",
     "output_type": "stream",
     "text": [
      "Requirement already satisfied: aif360[inFairness] in /Library/Frameworks/Python.framework/Versions/3.13/lib/python3.13/site-packages (0.5.0)\n",
      "\u001b[33mWARNING: aif360 0.5.0 does not provide the extra 'infairness'\u001b[0m\u001b[33m\n",
      "\u001b[0mRequirement already satisfied: numpy>=1.16 in /Library/Frameworks/Python.framework/Versions/3.13/lib/python3.13/site-packages (from aif360[inFairness]) (2.2.2)\n",
      "Requirement already satisfied: scipy>=1.2.0 in /Library/Frameworks/Python.framework/Versions/3.13/lib/python3.13/site-packages (from aif360[inFairness]) (1.15.1)\n",
      "Requirement already satisfied: pandas>=0.24.0 in /Library/Frameworks/Python.framework/Versions/3.13/lib/python3.13/site-packages (from aif360[inFairness]) (2.2.3)\n",
      "Requirement already satisfied: scikit-learn>=1.0 in /Library/Frameworks/Python.framework/Versions/3.13/lib/python3.13/site-packages (from aif360[inFairness]) (1.6.1)\n",
      "Requirement already satisfied: matplotlib in /Library/Frameworks/Python.framework/Versions/3.13/lib/python3.13/site-packages (from aif360[inFairness]) (3.10.0)\n",
      "Requirement already satisfied: python-dateutil>=2.8.2 in /Library/Frameworks/Python.framework/Versions/3.13/lib/python3.13/site-packages (from pandas>=0.24.0->aif360[inFairness]) (2.9.0.post0)\n",
      "Requirement already satisfied: pytz>=2020.1 in /Library/Frameworks/Python.framework/Versions/3.13/lib/python3.13/site-packages (from pandas>=0.24.0->aif360[inFairness]) (2024.2)\n",
      "Requirement already satisfied: tzdata>=2022.7 in /Library/Frameworks/Python.framework/Versions/3.13/lib/python3.13/site-packages (from pandas>=0.24.0->aif360[inFairness]) (2025.1)\n",
      "Requirement already satisfied: joblib>=1.2.0 in /Library/Frameworks/Python.framework/Versions/3.13/lib/python3.13/site-packages (from scikit-learn>=1.0->aif360[inFairness]) (1.4.2)\n",
      "Requirement already satisfied: threadpoolctl>=3.1.0 in /Library/Frameworks/Python.framework/Versions/3.13/lib/python3.13/site-packages (from scikit-learn>=1.0->aif360[inFairness]) (3.5.0)\n",
      "Requirement already satisfied: contourpy>=1.0.1 in /Library/Frameworks/Python.framework/Versions/3.13/lib/python3.13/site-packages (from matplotlib->aif360[inFairness]) (1.3.1)\n",
      "Requirement already satisfied: cycler>=0.10 in /Library/Frameworks/Python.framework/Versions/3.13/lib/python3.13/site-packages (from matplotlib->aif360[inFairness]) (0.12.1)\n",
      "Requirement already satisfied: fonttools>=4.22.0 in /Library/Frameworks/Python.framework/Versions/3.13/lib/python3.13/site-packages (from matplotlib->aif360[inFairness]) (4.55.6)\n",
      "Requirement already satisfied: kiwisolver>=1.3.1 in /Library/Frameworks/Python.framework/Versions/3.13/lib/python3.13/site-packages (from matplotlib->aif360[inFairness]) (1.4.8)\n",
      "Requirement already satisfied: packaging>=20.0 in /Library/Frameworks/Python.framework/Versions/3.13/lib/python3.13/site-packages (from matplotlib->aif360[inFairness]) (24.2)\n",
      "Requirement already satisfied: pillow>=8 in /Library/Frameworks/Python.framework/Versions/3.13/lib/python3.13/site-packages (from matplotlib->aif360[inFairness]) (11.1.0)\n",
      "Requirement already satisfied: pyparsing>=2.3.1 in /Library/Frameworks/Python.framework/Versions/3.13/lib/python3.13/site-packages (from matplotlib->aif360[inFairness]) (3.2.1)\n",
      "Requirement already satisfied: six>=1.5 in /Library/Frameworks/Python.framework/Versions/3.13/lib/python3.13/site-packages (from python-dateutil>=2.8.2->pandas>=0.24.0->aif360[inFairness]) (1.17.0)\n",
      "\n",
      "\u001b[1m[\u001b[0m\u001b[34;49mnotice\u001b[0m\u001b[1;39;49m]\u001b[0m\u001b[39;49m A new release of pip is available: \u001b[0m\u001b[31;49m25.0.1\u001b[0m\u001b[39;49m -> \u001b[0m\u001b[32;49m25.1.1\u001b[0m\n",
      "\u001b[1m[\u001b[0m\u001b[34;49mnotice\u001b[0m\u001b[1;39;49m]\u001b[0m\u001b[39;49m To update, run: \u001b[0m\u001b[32;49mpip install --upgrade pip\u001b[0m\n",
      "Note: you may need to restart the kernel to use updated packages.\n"
     ]
    }
   ],
   "source": [
    "%pip install aif360[inFairness]"
   ]
  },
  {
   "cell_type": "code",
   "execution_count": 10,
   "id": "85984476",
   "metadata": {},
   "outputs": [
    {
     "name": "stdout",
     "output_type": "stream",
     "text": [
      "                  name   first         last compas_screening_date   sex  \\\n",
      "id                                                                        \n",
      "1     miguel hernandez  miguel    hernandez            2013-08-14  Male   \n",
      "3          kevon dixon   kevon        dixon            2013-01-27  Male   \n",
      "4             ed philo      ed        philo            2013-04-14  Male   \n",
      "5          marcu brown   marcu        brown            2013-01-13  Male   \n",
      "6   bouthy pierrelouis  bouthy  pierrelouis            2013-03-26  Male   \n",
      "\n",
      "           dob  age          age_cat              race  juv_fel_count  ...  \\\n",
      "id                                                                     ...   \n",
      "1   1947-04-18   69  Greater than 45             Other              0  ...   \n",
      "3   1982-01-22   34          25 - 45  African-American              0  ...   \n",
      "4   1991-05-14   24     Less than 25  African-American              0  ...   \n",
      "5   1993-01-21   23     Less than 25  African-American              0  ...   \n",
      "6   1973-01-22   43          25 - 45             Other              0  ...   \n",
      "\n",
      "    v_decile_score  v_score_text  v_screening_date  in_custody  out_custody  \\\n",
      "id                                                                            \n",
      "1                1           Low        2013-08-14  2014-07-07   2014-07-14   \n",
      "3                1           Low        2013-01-27  2013-01-26   2013-02-05   \n",
      "4                3           Low        2013-04-14  2013-06-16   2013-06-16   \n",
      "5                6        Medium        2013-01-13         NaN          NaN   \n",
      "6                1           Low        2013-03-26         NaN          NaN   \n",
      "\n",
      "   priors_count.1 start   end event two_year_recid  \n",
      "id                                                  \n",
      "1               0     0   327     0              0  \n",
      "3               0     9   159     1              1  \n",
      "4               4     0    63     0              1  \n",
      "5               1     0  1174     0              0  \n",
      "6               2     0  1102     0              0  \n",
      "\n",
      "[5 rows x 52 columns]\n"
     ]
    }
   ],
   "source": [
    "\n",
    "# Load the dataset\n",
    "raw = pd.read_csv(\"compas-scores-two-years.csv\", index_col=0)\n",
    "df = pd.read_csv(\"compas-scores-two-years-preprocessed.csv\", index_col=0)\n",
    "print(raw.head())\n"
   ]
  },
  {
   "cell_type": "code",
   "execution_count": 11,
   "id": "cdc5c161",
   "metadata": {},
   "outputs": [],
   "source": [
    "y = df['two_year_recid']\n",
    "X = df.drop(columns=['two_year_recid'])"
   ]
  },
  {
   "cell_type": "code",
   "execution_count": 12,
   "id": "4dc659f1",
   "metadata": {},
   "outputs": [
    {
     "name": "stderr",
     "output_type": "stream",
     "text": [
      "/Library/Frameworks/Python.framework/Versions/3.13/lib/python3.13/site-packages/aif360/algorithms/preprocessing/reweighing.py:66: RuntimeWarning: invalid value encountered in scalar divide\n",
      "  self.w_p_fav = n_fav*n_p / (n*n_p_fav)\n",
      "/Library/Frameworks/Python.framework/Versions/3.13/lib/python3.13/site-packages/aif360/algorithms/preprocessing/reweighing.py:67: RuntimeWarning: invalid value encountered in scalar divide\n",
      "  self.w_p_unfav = n_unfav*n_p / (n*n_p_unfav)\n",
      "/Library/Frameworks/Python.framework/Versions/3.13/lib/python3.13/site-packages/aif360/algorithms/preprocessing/reweighing.py:68: RuntimeWarning: invalid value encountered in scalar divide\n",
      "  self.w_up_fav = n_fav*n_up / (n*n_up_fav)\n",
      "/Library/Frameworks/Python.framework/Versions/3.13/lib/python3.13/site-packages/aif360/algorithms/preprocessing/reweighing.py:69: RuntimeWarning: invalid value encountered in scalar divide\n",
      "  self.w_up_unfav = n_unfav*n_up / (n*n_up_unfav)\n"
     ]
    },
    {
     "name": "stdout",
     "output_type": "stream",
     "text": [
      "Post-Reweighing Accuracy: 0.8650116369278511\n",
      "Post-Reweighing Precision: 0.8203883495145631\n",
      "Post-Reweighing Recall: 0.771689497716895\n"
     ]
    },
    {
     "name": "stderr",
     "output_type": "stream",
     "text": [
      "/Library/Frameworks/Python.framework/Versions/3.13/lib/python3.13/site-packages/sklearn/utils/validation.py:2732: UserWarning: X has feature names, but RandomForestClassifier was fitted without feature names\n",
      "  warnings.warn(\n"
     ]
    }
   ],
   "source": [
    "X_train, X_test, y_train, y_test = train_test_split(X, y, test_size=0.2, random_state=42)\n",
    "\n",
    "train_df = X_train.copy()\n",
    "train_df['two_year_recid'] = y_train\n",
    "race_ser = raw['race']\n",
    "train_df = train_df.merge(\n",
    "    race_ser.rename('race'),\n",
    "    left_index=True,\n",
    "    right_index=True,\n",
    "    how='left'\n",
    ")\n",
    "\n",
    "train_df['race_code'] = train_df['race'].map(\n",
    "    {'African-American':0,'Caucasian':1}\n",
    ").fillna(-1).astype(int)\n",
    "train_df = train_df.drop(columns=['race'])\n",
    "\n",
    "\n",
    "train_df['two_year_recid'] = train_df['two_year_recid'].astype(int)\n",
    "\n",
    "\n",
    "dataset_orig_train = BinaryLabelDataset(\n",
    "    df=train_df,\n",
    "    label_names=['two_year_recid'],\n",
    "    protected_attribute_names=['race_code'],    # numeric now\n",
    "    favorable_label=1,\n",
    "    unfavorable_label=0\n",
    ")\n",
    "\n",
    "privileged_groups   = [{\"race_code\": \"Caucasian\"}]\n",
    "unprivileged_groups = [{\"race_code\": \"African-American\"}]\n",
    "\n",
    "rw = Reweighing(\n",
    "    privileged_groups=privileged_groups,\n",
    "    unprivileged_groups=unprivileged_groups\n",
    ")\n",
    "rw.fit(dataset_orig_train)\n",
    "dataset_transf_train = rw.transform(dataset_orig_train)\n",
    "\n",
    "X_tr = dataset_transf_train.features\n",
    "y_tr = dataset_transf_train.labels.ravel().astype(int)\n",
    "w_tr = dataset_transf_train.instance_weights\n",
    "\n",
    "from sklearn.ensemble import RandomForestClassifier\n",
    "clf = RandomForestClassifier(random_state=42)\n",
    "clf.fit(X_tr, y_tr, sample_weight=w_tr)\n",
    "\n",
    "# Align the features of X_test with X_tr\n",
    "X_test_aligned = X_test.reindex(columns=dataset_transf_train.feature_names, fill_value=0)\n",
    "# Make predictions\n",
    "y_pred = clf.predict(X_test_aligned)\n",
    "from sklearn.metrics import accuracy_score, precision_score, recall_score\n",
    "print(\"Post-Reweighing Accuracy:\",  accuracy_score(y_test.astype(int),  y_pred))\n",
    "print(\"Post-Reweighing Precision:\", precision_score(y_test.astype(int), y_pred))\n",
    "print(\"Post-Reweighing Recall:\",    recall_score(y_test.astype(int),    y_pred))\n"
   ]
  },
  {
   "cell_type": "code",
   "execution_count": 13,
   "id": "157329c7",
   "metadata": {},
   "outputs": [
    {
     "name": "stdout",
     "output_type": "stream",
     "text": [
      "FPR/FNR by Race:\n",
      "                       FPR       FNR\n",
      "race                                \n",
      "African-American  0.090909  0.217082\n",
      "Asian             0.333333  0.000000\n",
      "Caucasian         0.083942  0.295652\n",
      "Hispanic          0.057692  0.103448\n",
      "Native American   0.000000  0.000000\n",
      "Other             0.074074  0.200000\n",
      "\n",
      "FPR/FNR by Gender:\n",
      "             FPR       FNR\n",
      "gender                    \n",
      "Female  0.026316  0.108696\n",
      "Male    0.116861  0.251351\n"
     ]
    },
    {
     "name": "stderr",
     "output_type": "stream",
     "text": [
      "/var/folders/6c/pmclr21d7qxghrnljkq0f9pc0000gn/T/ipykernel_86463/1173927553.py:29: DeprecationWarning: DataFrameGroupBy.apply operated on the grouping columns. This behavior is deprecated, and in a future version of pandas the grouping columns will be excluded from the operation. Either pass `include_groups=False` to exclude the groupings or explicitly select the grouping columns after groupby to silence this warning.\n",
      "  by_race   = results.groupby('race').apply(group_stats)\n",
      "/var/folders/6c/pmclr21d7qxghrnljkq0f9pc0000gn/T/ipykernel_86463/1173927553.py:30: DeprecationWarning: DataFrameGroupBy.apply operated on the grouping columns. This behavior is deprecated, and in a future version of pandas the grouping columns will be excluded from the operation. Either pass `include_groups=False` to exclude the groupings or explicitly select the grouping columns after groupby to silence this warning.\n",
      "  by_gender = results.groupby('gender').apply(group_stats)\n"
     ]
    }
   ],
   "source": [
    "# rebuild your results DataFrame as before:\n",
    "\n",
    "\n",
    "# 2) Build a results DataFrame off X_test (no index reset needed)\n",
    "results = X_test.copy()\n",
    "results['true'] = y_test.astype(int)\n",
    "results['pred'] = y_pred\n",
    "# 3) Recover gender from your one-hot:\n",
    "results['gender'] = results['sex_Male'].map({1:'Male', 0:'Female'})\n",
    "\n",
    "# 4) Recover race from your one-hot columns:\n",
    "race_cols = [c for c in X_test.columns if c.startswith('race_')]\n",
    "# idxmax finds which dummy is 1\n",
    "results['race'] = (results[race_cols]\n",
    "                       .idxmax(axis=1)          # e.g. 'race_Caucasian'\n",
    "                       .str.replace('race_','')  # → 'Caucasian'\n",
    "                   )\n",
    "\n",
    "\n",
    "# 5) Define a function to compute FPR/FNR for any subgroup\n",
    "def group_stats(g):\n",
    "    tn, fp, fn, tp = confusion_matrix(g['true'], g['pred'], labels=[0,1]).ravel()\n",
    "    return pd.Series({\n",
    "        'FPR': fp / (fp + tn) if (fp+tn) else 0,\n",
    "        'FNR': fn / (fn + tp) if (fn+tp) else 0\n",
    "    })\n",
    "\n",
    "# 6) Compute and print by race and by gender\n",
    "by_race   = results.groupby('race').apply(group_stats)\n",
    "by_gender = results.groupby('gender').apply(group_stats)\n",
    "\n",
    "print(\"FPR/FNR by Race:\")\n",
    "print(by_race)\n",
    "print(\"\\nFPR/FNR by Gender:\")\n",
    "print(by_gender)"
   ]
  },
  {
   "cell_type": "markdown",
   "id": "c5502bdc",
   "metadata": {},
   "source": [
    "# Conclusion:\n",
    "\n",
    "Accuracy rose from 64% to 86.5%, showing that overall predictive correctness improved once the training set was balanced across race × outcome groups.\n",
    "\n",
    "Precision nearly doubled (58% → 82%), meaning the post-reweighing model makes far fewer false-positive “high-risk” errors.\n",
    "\n",
    "Recall jumped from 58% to 77%, so the model now correctly identifies the vast majority of true recidivists rather than missing most of them.\n",
    "\n",
    "In other words, by reweighing the training examples to remove the spurious correlation between race and recidivism, the Random Forest becomes both much more sensitive (higher recall) and much more specific (higher precision), while also reducing disparate error‐rate gaps across racial groups."
   ]
  }
 ],
 "metadata": {
  "kernelspec": {
   "display_name": "Python 3",
   "language": "python",
   "name": "python3"
  },
  "language_info": {
   "codemirror_mode": {
    "name": "ipython",
    "version": 3
   },
   "file_extension": ".py",
   "mimetype": "text/x-python",
   "name": "python",
   "nbconvert_exporter": "python",
   "pygments_lexer": "ipython3",
   "version": "3.13.1"
  }
 },
 "nbformat": 4,
 "nbformat_minor": 5
}
